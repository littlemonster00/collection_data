{
 "cells": [
  {
   "cell_type": "code",
   "execution_count": 2,
   "metadata": {},
   "outputs": [
    {
     "name": "stdout",
     "output_type": "stream",
     "text": [
      "29\n"
     ]
    }
   ],
   "source": [
    "from bs4 import BeautifulSoup\n",
    "import requests\n",
    "import time\n",
    "import requests\n",
    "import pandas as pd\n",
    "import csv\n",
    "\n",
    "url = \"https://www.thegioididong.com/dtdd/\"\n",
    "\n",
    "payload = \"\"\n",
    "headers = {\n",
    "    'cache-control': \"no-cache\",\n",
    "    'Postman-Token': \"5dafbb63-6b28-4aeb-9b0f-08c9a9078843\"\n",
    "    }\n",
    "\n",
    "response = requests.request(\"GET\", url, data=payload, headers=headers)\n",
    "soup = BeautifulSoup(response.text, 'html.parser')\n",
    "list = soup.find('ul', {'class': 'homeproduct'}).find_all('li')\n",
    "print(len(list))\n"
   ]
  },
  {
   "cell_type": "code",
   "execution_count": null,
   "metadata": {},
   "outputs": [],
   "source": [
    "html = None\n",
    "with open('./dt.html', 'r', encoding='utf8') as f:\n",
    "    html = f.read()\n",
    "soup = BeautifulSoup(html, 'html.parser')\n",
    "myuls = soup.find_all('li')\n",
    "print(myuls)"
   ]
  },
  {
   "cell_type": "code",
   "execution_count": null,
   "metadata": {},
   "outputs": [],
   "source": [
    "mylist"
   ]
  },
  {
   "cell_type": "code",
   "execution_count": 3,
   "metadata": {},
   "outputs": [
    {
     "name": "stdout",
     "output_type": "stream",
     "text": [
      "https://www.thegioididong.com/dtdd/samsung-galaxy-a9-2018\n",
      "https://www.thegioididong.com/dtdd/iphone-xr\n",
      "https://www.thegioididong.com/dtdd/huawei-mate-20-pro\n",
      "https://www.thegioididong.com/dtdd/oppo-find-x\n",
      "https://www.thegioididong.com/dtdd/samsung-galaxy-s9-plus-128gb\n",
      "https://www.thegioididong.com/dtdd/iphone-8-plus\n",
      "https://www.thegioididong.com/dtdd/samsung-galaxy-note8\n",
      "https://www.thegioididong.com/dtdd/samsung-galaxy-s9-plus\n"
     ]
    }
   ],
   "source": [
    "from bs4 import BeautifulSoup\n",
    "import requests\n",
    "import time\n",
    "import requests\n",
    "import pandas as pd\n",
    "\n",
    "html = None\n",
    "with open('./dt.html', 'r',  encoding='utf8') as f:\n",
    "    html = f.read()\n",
    "\n",
    "soup = BeautifulSoup(html, 'html.parser')\n",
    "myuls = soup.find_all('li')\n",
    "\n",
    "url = \"https://www.thegioididong.com\"\n",
    "\n",
    "payload = \"\"\n",
    "headers = {\n",
    "    'cache-control': \"no-cache\",\n",
    "    'Postman-Token': \"5dafbb63-6b28-4aeb-9b0f-08c9a9078843\"\n",
    "    }\n",
    "\n",
    "response = requests.request(\"GET\", url, data=payload, headers=headers)\n",
    "soup = BeautifulSoup(response.text, 'html.parser')\n",
    "mylist = soup.find('ul', {'class': 'homeproduct'}).find_all('li')\n",
    "\n",
    "array_product = []\n",
    "\n",
    "for li in myuls:\n",
    "    link = url + li.find('a')['href']\n",
    "    print(link)\n",
    "    headers = {\n",
    "        'cache-control': \"no-cache\",\n",
    "        'postman-token': \"3b6342a3-5388-3805-f686-9b9bc2d92632\"\n",
    "    }\n",
    "    response = requests.request(\"GET\", link, headers=headers)\n",
    "\n",
    "    htmldt = response.text\n",
    "    soupdt = BeautifulSoup(htmldt, 'html.parser')\n",
    "    try:    \n",
    "        id_p = soupdt.find('div', {'class': 'area_order'}).find('a')['data-value']\n",
    "    except:\n",
    "        id_p = None\n",
    "    try:\n",
    "        product_name = soupdt.find('div', {'class': 'rowtop'}).find('h1').text\n",
    "    except:\n",
    "        product_name = None\n",
    "    try:\n",
    "        price = soupdt.find('div', {'class': 'area_price'}).find('strong').text\n",
    "    except:\n",
    "        price: None\n",
    "    try: \n",
    "        rating = int(soupdt.find('div', {'class': 'ratingresult'}).find('a').text.split()[0])\n",
    "    except:\n",
    "        rating = None\n",
    "    try:\n",
    "        link_image = soupdt.find('div', {'class': 'rowdetail'}).find('img')['src']\n",
    "    except:\n",
    "        link_image = None\n",
    "    dict = {\n",
    "        'id_p': id_p,\n",
    "        'product_name': product_name,\n",
    "        'price': price,\n",
    "        'rating': rating,\n",
    "        'link_image': link_image\n",
    "    }\n",
    "    \n",
    "    array_product.append(dict)"
   ]
  },
  {
   "cell_type": "code",
   "execution_count": null,
   "metadata": {},
   "outputs": [],
   "source": [
    "array_product"
   ]
  },
  {
   "cell_type": "code",
   "execution_count": 26,
   "metadata": {},
   "outputs": [],
   "source": [
    "import dateparser"
   ]
  },
  {
   "cell_type": "code",
   "execution_count": 21,
   "metadata": {},
   "outputs": [],
   "source": [
    "def get_review(product_id, rate_nums, score=0):\n",
    "  reviews = []\n",
    "  for page in list(range(1, round(rate_nums/3)+2)):\n",
    "    try:\n",
    "      url = \"https://www.thegioididong.com/aj/ProductV4/RatingCommentList/\"\n",
    "\n",
    "      payload = f\"------WebKitFormBoundary7MA4YWxkTrZu0gW\\r\\nContent-Disposition: form-data; name=\\\"productid\\\"\\r\\n\\r\\n{product_id}\\r\\n------WebKitFormBoundary7MA4YWxkTrZu0gW\\r\\nContent-Disposition: form-data; name=\\\"page\\\"\\r\\n\\r\\n{page}\\r\\n------WebKitFormBoundary7MA4YWxkTrZu0gW\\r\\nContent-Disposition: form-data; name=\\\"score\\\"\\r\\n\\r\\n{score}\\r\\n------WebKitFormBoundary7MA4YWxkTrZu0gW--\"\n",
    "      headers = {\n",
    "          'content-type': \"multipart/form-data; boundary=----WebKitFormBoundary7MA4YWxkTrZu0gW\",\n",
    "          'cache-control': \"no-cache\",\n",
    "          'postman-token': \"dd07aa72-96d3-e32e-fdd5-61566f93043d\"\n",
    "      }\n",
    "\n",
    "      response = requests.request(\"POST\", url, data=payload, headers=headers)\n",
    "      soup = BeautifulSoup(response.text, 'html.parser')\n",
    "      mylis = soup.find_all('li', {'class': 'par'})\n",
    "      for li in mylis:\n",
    "        rated_content = li.find('p').find('i', recursive=False).text\n",
    "        rated_num = len(li.find('p').find('span').find_all('i', {'class': 'iconcom-txtstar'}))\n",
    "        rated_date = dateparser.parse(li.find('a', {'class': 'cmtd'}).text, languages=['vi']).strftime(\"%d/%m/%Y\")\n",
    "        reviews.append({\n",
    "            'content': rated_content,\n",
    "            'num_star': rated_num,\n",
    "            'date': rated_date\n",
    "        })\n",
    "      \n",
    "    except:\n",
    "      pass\n",
    "  return reviews"
   ]
  },
  {
   "cell_type": "code",
   "execution_count": 27,
   "metadata": {},
   "outputs": [],
   "source": [
    "def get_reviews(product_id, rating_nums, score=0):\n",
    "    reviews = []\n",
    "    for page in range(1, round(rating_nums/3) + 2):\n",
    "        try:\n",
    "            url = \"https://www.thegioididong.com/aj/ProductV4/RatingCommentList\"\n",
    "\n",
    "            payload = f\"------WebKitFormBoundary7MA4YWxkTrZu0gW\\r\\nContent-Disposition: form-data; name=\\\"productid\\\"\\r\\n\\r\\n{product_id}\\r\\n------WebKitFormBoundary7MA4YWxkTrZu0gW\\r\\nContent-Disposition: form-data; name=\\\"{page}\\\"\\r\\n\\r\\n12\\r\\n------WebKitFormBoundary7MA4YWxkTrZu0gW\\r\\nContent-Disposition: form-data; name=\\\"{score}\\\"\\r\\n\\r\\n0\\r\\n------WebKitFormBoundary7MA4YWxkTrZu0gW--\"\n",
    "            headers = {\n",
    "                'content-type': \"multipart/form-data; boundary=----WebKitFormBoundary7MA4YWxkTrZu0gW\",\n",
    "                'cache-control': \"no-cache\",\n",
    "                'postman-token': \"bcd83aaf-f2aa-ea8b-ab0c-d6f2f7bc744e\"\n",
    "                }\n",
    "\n",
    "            response = requests.request(\"POST\", url, data=payload, headers=headers)\n",
    "            soup = BeautifulSoup(response.text, 'html.parser')\n",
    "            for li in mylis:\n",
    "                rated_content = li.find('p').find('i', recursive=False).text\n",
    "                rated_num = len(li.find('p').find('span').find_all('i', {'class': 'iconcom-txtstar'}))\n",
    "                rated_date = dateparser.parse(li.find('a', {'class': 'cmtd'}).text, languages=['vi']).strftime(\"%d/%m/%Y\")\n",
    "                reviews.append({\n",
    "                    'content': rated_content,\n",
    "                    'num_star': rated_num,\n",
    "                    'date': rated_date\n",
    "                })\n",
    "        except:\n",
    "            pass\n",
    "    return reviews"
   ]
  },
  {
   "cell_type": "code",
   "execution_count": null,
   "metadata": {},
   "outputs": [],
   "source": [
    "get_review('183994', 40)"
   ]
  },
  {
   "cell_type": "code",
   "execution_count": null,
   "metadata": {},
   "outputs": [],
   "source": [
    "import requests\n",
    "\n",
    "url = \"https://www.thegioididong.com/aj/ProductV4/RatingCommentList\"\n",
    "\n",
    "payload = \"------WebKitFormBoundary7MA4YWxkTrZu0gW\\r\\nContent-Disposition: form-data; name=\\\"productid\\\"\\r\\n\\r\\n163645\\r\\n------WebKitFormBoundary7MA4YWxkTrZu0gW\\r\\nContent-Disposition: form-data; name=\\\"page\\\"\\r\\n\\r\\n3\\r\\n------WebKitFormBoundary7MA4YWxkTrZu0gW\\r\\nContent-Disposition: form-data; name=\\\"score\\\"\\r\\n\\r\\n0\\r\\n------WebKitFormBoundary7MA4YWxkTrZu0gW--\"\n",
    "headers = {\n",
    "    'content-type': \"multipart/form-data; boundary=----WebKitFormBoundary7MA4YWxkTrZu0gW\",\n",
    "    'cache-control': \"no-cache\",\n",
    "    'postman-token': \"12a112ec-24f2-3dcf-74df-2c57562c6d40\"\n",
    "    }\n",
    "\n",
    "response = requests.request(\"POST\", url, data=payload, headers=headers)\n",
    "soup = BeautifulSoup(response.text, 'html.parser')\n",
    "mylist = soup.find_all('li', {'class': 'par'})\n",
    "mylist[0].find('p').find('i',  recursive=False).text\n",
    "dateparser.parse(mylist[0].find('a', {'class': 'cmtd'}).text, languages=['vi']).strftime(\"%d/%m/%Y\")"
   ]
  },
  {
   "cell_type": "code",
   "execution_count": 28,
   "metadata": {},
   "outputs": [],
   "source": [
    "import csv\n",
    "array_reviews = []\n",
    "with open('rate_file.csv', 'w', encoding = 'utf8') as rate_file:\n",
    "    rating_file = csv.writer(rate_file, delimiter=',', quotechar='\"', quoting=csv.QUOTE_MINIMAL)\n",
    "    for dtdt in array_product:\n",
    "        try:\n",
    "            rating_file.writerow(get_review(dtdt['id_p'], dtdt['rating']))\n",
    "        except:\n",
    "            pass"
   ]
  },
  {
   "cell_type": "code",
   "execution_count": null,
   "metadata": {},
   "outputs": [],
   "source": [
    "import csv\n",
    "with open('rate_file.csv', 'w', encoding = 'utf8') as rate_file:\n",
    "    rating_file = csv.writer(rate_file, delimiter=',', quotechar='\"', quoting=csv.QUOTE_MINIMAL)\n",
    "    rating_file.writerow(['Name', 'Reviews', 'Num_Start', 'Date'])\n",
    "   \n",
    "    for dtdt in array_product:\n",
    "        reviews = get_review(dtdt['id_p'], dtdt['rating'])\n",
    "        for cmt in reviews:\n",
    "            print(cmt)\n",
    "            try:\n",
    "                rating_file.writerow([dtdt['product_name'], cmt['content'], cmt['num_star'], cmt['date']])\n",
    "            except:\n",
    "                pass\n",
    "                "
   ]
  },
  {
   "cell_type": "code",
   "execution_count": null,
   "metadata": {},
   "outputs": [],
   "source": [
    "get_review('183994', 40)"
   ]
  },
  {
   "cell_type": "code",
   "execution_count": 44,
   "metadata": {},
   "outputs": [],
   "source": [
    "import csv\n",
    "\n",
    "with open('employee_file.csv', mode='w') as employee_file:\n",
    "    employee_writer = csv.writer(employee_file, delimiter=',', quotechar='\"', quoting=csv.QUOTE_MINIMAL)\n",
    "\n",
    "    employee_writer.writerow(['John Smith', 'Accounting', 'November'])\n",
    "    employee_writer.writerow(['Erica Meyers', 'IT', 'March'])"
   ]
  },
  {
   "cell_type": "code",
   "execution_count": null,
   "metadata": {},
   "outputs": [],
   "source": [
    "array_rating"
   ]
  },
  {
   "cell_type": "code",
   "execution_count": null,
   "metadata": {},
   "outputs": [],
   "source": [
    "for rate in array_product[:5]:\n",
    "    print(rate)"
   ]
  },
  {
   "cell_type": "code",
   "execution_count": null,
   "metadata": {},
   "outputs": [],
   "source": [
    "!pip install dateparser"
   ]
  },
  {
   "cell_type": "code",
   "execution_count": null,
   "metadata": {},
   "outputs": [],
   "source": [
    "!python -m pip install --upgrade pip"
   ]
  },
  {
   "cell_type": "code",
   "execution_count": null,
   "metadata": {},
   "outputs": [],
   "source": [
    "!pip install PyHamcrest"
   ]
  },
  {
   "cell_type": "code",
   "execution_count": 26,
   "metadata": {},
   "outputs": [],
   "source": [
    "import csv\n",
    "\n",
    "with open('employee_file.csv', mode='w') as employee_file:\n",
    "    employee_writer = csv.writer(employee_file, delimiter=',', quotechar='\"', quoting=csv.QUOTE_MINIMAL)\n",
    "\n",
    "    employee_writer.writerow(['John Smith', 'Accounting', 'November'])\n",
    "    employee_writer.writerow(['Erica Meyers', 'IT', 'March'])"
   ]
  },
  {
   "cell_type": "code",
   "execution_count": null,
   "metadata": {},
   "outputs": [],
   "source": [
    "for page in range(1, round(10/3) + 2):\n",
    "    print(page)"
   ]
  },
  {
   "cell_type": "code",
   "execution_count": null,
   "metadata": {},
   "outputs": [],
   "source": [
    "import pandas as pd"
   ]
  },
  {
   "cell_type": "code",
   "execution_count": null,
   "metadata": {},
   "outputs": [],
   "source": [
    "pd.read_csv('rate_file.csv')"
   ]
  },
  {
   "cell_type": "code",
   "execution_count": null,
   "metadata": {},
   "outputs": [],
   "source": []
  }
 ],
 "metadata": {
  "kernelspec": {
   "display_name": "Python 3",
   "language": "python",
   "name": "python3"
  },
  "language_info": {
   "codemirror_mode": {
    "name": "ipython",
    "version": 3
   },
   "file_extension": ".py",
   "mimetype": "text/x-python",
   "name": "python",
   "nbconvert_exporter": "python",
   "pygments_lexer": "ipython3",
   "version": "3.7.0"
  }
 },
 "nbformat": 4,
 "nbformat_minor": 2
}
