{
 "cells": [
  {
   "cell_type": "code",
   "execution_count": 7,
   "metadata": {},
   "outputs": [],
   "source": [
    "from bs4 import BeautifulSoup\n",
    "import requests\n",
    "import time\n",
    "import requests\n",
    "import pandas as pd\n",
    "import csv"
   ]
  },
  {
   "cell_type": "code",
   "execution_count": 8,
   "metadata": {},
   "outputs": [],
   "source": [
    "url = \"https://sj.ctu.edu.vn/ql/docgia/nam-2018/loaichuyensan-2/xuatban-1482/chuyensan-250.html\"\n",
    "\n",
    "payload = \"\"\n",
    "headers = {\n",
    "    'cache-control': \"no-cache\",\n",
    "    'Postman-Token': \"51ae55da-df3c-4ad0-b1f1-39be90806cf1\"\n",
    "    }\n",
    "\n",
    "response = requests.request(\"GET\", url, data=payload, headers=headers)\n",
    "soup = BeautifulSoup(response.text, 'html.parser')\n",
    "\n",
    "array_report = soup.find_all('div', {'class': 'baibao-chitiet baibao-xuatban'})\n"
   ]
  },
  {
   "cell_type": "code",
   "execution_count": 9,
   "metadata": {},
   "outputs": [
    {
     "name": "stdout",
     "output_type": "stream",
     "text": [
      "[{'tieude': 'Nghiên cứu định hình cấu trúc mạng lưới chuỗi cung ứng thu gom tái chế hộp mực máy in cũ cho các cơ quan và trường học trên địa bàn thành phố Cần Thơ và các quận, huyện lân cận', 'chitiet': 'Tập 54, Số 7 (2018) Trang: 1-8 ', 'tacgia': ['Đoàn Hoàng Tuấn', 'Nguyễn Thắng Lợi', 'Phạm Hoàng Tân', 'Trương Quỳnh Hoa']}, {'tieude': 'Cải tiến tiêu chuẩn khoảng cách trong xây dựng chùm các phần tử rời rạc', 'chitiet': 'Tập 54, Số 7 (2018) Trang: 101-108 ', 'tacgia': ['Võ Văn Tài', 'Bành Văn Viên', 'Lê Thị Kim Ngọc']}, {'tieude': 'Tổng hợp vật liệu cấu trúc spinel nickel ferrite NIxFE3-xO4 bằng phương pháp sol-gel và khảo sát hoạt tính quang xúc tác', 'chitiet': 'Tập 54, Số 7 (2018) Trang: 20-26 ', 'tacgia': ['Nguyễn Trương Xuân Vinh', 'Đoàn Văn Hồng Thiện', 'Huỳnh Kỳ Phương Hạ']}, {'tieude': 'Đánh giá hiệu quả của giải thuật Quasi-Newton trong điều khiển trượt thích nghi sử dụng mạng nơ-ron RBF', 'chitiet': 'Tập 54, Số 7 (2018) Trang: 27-34 ', 'tacgia': ['Phạm Thanh Tùng', 'Nguyễn Chí Ngôn', 'Lê Thị Kiều Mai', 'Nguyễn Đình Tứ', 'Đồng Văn Hướng', 'Nguyễn Hứa Duy Khang']}, {'tieude': 'Tổng quan về pin nhiên liệu vi khuẩn: Lịch sử nghiên cứu, nguyên lý hoạt động và các cơ chế dịch chuyển điện tử giữa các màng sinh học vi khuẩn với các điện cực rắn', 'chitiet': 'Tập 54, Số 7 (2018) Trang: 35-47 ', 'tacgia': ['Thiều Quang Quốc Việt', 'Phạm Văn Toàn', 'Quách Ngọc Thịnh']}, {'tieude': 'Tương quan giữa tốc độ biến dạng ngang và tốc độ biến dạng đứng của đất ven sông phường 1, thành phố Vĩnh Long, tỉnh Vĩnh Long', 'chitiet': 'Tập 54, Số 7 (2018) Trang: 48-56 ', 'tacgia': ['Văn Hữu Huệ', 'Nguyễn Văn Xuân']}, {'tieude': 'Nghiên cứu hệ thống cây xanh ở Trường Trung Cấp Nông Lâm Nghiệp Bình Dương', 'chitiet': 'Tập 54, Số 7 (2018) Trang: 57-65 ', 'tacgia': ['Đinh Thanh Sang']}, {'tieude': 'Phát triển công nghệ chưng cất màng tiếp xúc trực tiếp dạng nhúng chìm để xử lý nước nhiễm mặn', 'chitiet': 'Tập 54, Số 7 (2018) Trang: 66-71 ', 'tacgia': ['Ngô Thị Trà My', 'Bùi Xuân Thành', 'Nguyễn Thị Hậu', 'Nguyễn Công Nguyên']}, {'tieude': 'Bước đầu nghiên cứu thành phần hóa học và tác dụng kháng viêm in vitro của lá khế (Averrhoa carambola L.)', 'chitiet': 'Tập 54, Số 7 (2018) Trang: 72-76 ', 'tacgia': ['Huỳnh Anh Duy', 'Nguyễn Thị Tuyết Nhi']}, {'tieude': 'Điều chế hạt nano vàng sử dụng chất khử trong lá trà định hướng ứng dụng trong mỹ phẩm', 'chitiet': 'Tập 54, Số 7 (2018) Trang: 77-84 ', 'tacgia': ['Nguyễn Ngọc Khánh Anh', 'Nguyễn Thị Tuyết Nhung', 'Nguyễn Thị Diễm Hương']}, {'tieude': 'Khả năng kháng oxy hóa và bảo vệ tế bào MIN6 tụy tạng của dịch trích methanol lá xoài non (Mangifera indica L.)', 'chitiet': 'Tập 54, Số 7 (2018) Trang: 85-93 ', 'tacgia': ['Nguyen Thi Ai Lan', 'Đái Thị Xuân Trang']}, {'tieude': 'Bộ điều khiển PID dựa trên mạng nơ-ron hàm cơ sở xuyên tâm', 'chitiet': 'Tập 54, Số 7 (2018) Trang: 9-19 ', 'tacgia': ['Huỳnh Thế Hiển', 'Nguyễn Hoàng Dũng', 'Huỳnh Minh Vũ']}, {'tieude': 'Khảo sát khả năng bảo vệ gan của cao methanol lá Mơ Leo (Paederia scandens L.) trên chuột tổn thương gan bằng carbon tetrachloride', 'chitiet': 'Tập 54, Số 7 (2018) Trang: 94-100 ', 'tacgia': ['Phan Kim Định', 'Đái Thị Xuân Trang', 'Nguyễn Trọng Tuân', 'Nguyễn Thị Thanh Lan']}]\n"
     ]
    }
   ],
   "source": [
    "list_report = []\n",
    "for e in array_report:\n",
    "    tacgia = []\n",
    "    for tg in e.find_all('a')[1: -2]:\n",
    "        tacgia.append(tg.text)\n",
    "        \n",
    "    dict = {\n",
    "        'tieude': e.find('div', {'class': 'row'}).find('a').text,\n",
    "        'chitiet': e.find('div', {'class': 'row chitiet'}).text,\n",
    "        'tacgia': tacgia\n",
    "    }\n",
    "    list_report.append(dict)\n",
    "print(list_report)"
   ]
  },
  {
   "cell_type": "code",
   "execution_count": 17,
   "metadata": {},
   "outputs": [],
   "source": [
    "import csv\n",
    "with open('report_file.csv', 'w', encoding = 'utf8') as rate_file:\n",
    "    rating_file = csv.writer(rate_file, delimiter=',', quotechar='\"', quoting=csv.QUOTE_MINIMAL)\n",
    "    rating_file.writerow(['TieuDe', 'TacGia', 'ChiTiet'])\n",
    "   \n",
    "    for report in list_report:\n",
    "        try:\n",
    "                rating_file.writerow([report['tieude'], report['tacgia'], report['chitiet']])\n",
    "        except:\n",
    "            pass"
   ]
  },
  {
   "cell_type": "code",
   "execution_count": 1,
   "metadata": {},
   "outputs": [
    {
     "name": "stdout",
     "output_type": "stream",
     "text": [
      "Collecting underthesea\n",
      "  Using cached https://files.pythonhosted.org/packages/70/f3/87062b83b4c35d40fd84a042d98c2c7afeff37f3fc00a71a44756b347b6a/underthesea-1.1.8-py3-none-any.whl\n",
      "Collecting python-crfsuite==0.9.5 (from underthesea)\n",
      "  Using cached https://files.pythonhosted.org/packages/e7/e8/02618c1e926df4aee70308676511b728b1db4ca9eb52d8c4660c14a44178/python-crfsuite-0.9.5.tar.gz\n",
      "Requirement already satisfied: Click>=6.0 in c:\\programdata\\anaconda3\\lib\\site-packages (from underthesea) (6.7)\n",
      "Requirement already satisfied: languageflow==1.1.7a3 in c:\\programdata\\anaconda3\\lib\\site-packages (from underthesea) (1.1.7a3)\n",
      "Building wheels for collected packages: python-crfsuite\n",
      "  Running setup.py bdist_wheel for python-crfsuite: started\n",
      "  Running setup.py bdist_wheel for python-crfsuite: finished with status 'error'\n",
      "  Complete output from command c:\\programdata\\anaconda3\\python.exe -u -c \"import setuptools, tokenize;__file__='C:\\\\Users\\\\lqs\\\\AppData\\\\Local\\\\Temp\\\\pip-install-m4wahgs4\\\\python-crfsuite\\\\setup.py';f=getattr(tokenize, 'open', open)(__file__);code=f.read().replace('\\r\\n', '\\n');f.close();exec(compile(code, __file__, 'exec'))\" bdist_wheel -d C:\\Users\\lqs\\AppData\\Local\\Temp\\pip-wheel-xcsrx9q0 --python-tag cp37:\n",
      "  running bdist_wheel\n",
      "  running build\n",
      "  running build_py\n",
      "  creating build\n",
      "  creating build\\lib.win-amd64-3.7\n",
      "  creating build\\lib.win-amd64-3.7\\pycrfsuite\n",
      "  copying pycrfsuite\\_dumpparser.py -> build\\lib.win-amd64-3.7\\pycrfsuite\n",
      "  copying pycrfsuite\\_logparser.py -> build\\lib.win-amd64-3.7\\pycrfsuite\n",
      "  copying pycrfsuite\\__init__.py -> build\\lib.win-amd64-3.7\\pycrfsuite\n",
      "  running build_ext\n",
      "  building 'pycrfsuite._pycrfsuite' extension\n",
      "  creating build\\temp.win-amd64-3.7\n",
      "  creating build\\temp.win-amd64-3.7\\Release\n",
      "  creating build\\temp.win-amd64-3.7\\Release\\pycrfsuite\n",
      "  creating build\\temp.win-amd64-3.7\\Release\\crfsuite\n",
      "  creating build\\temp.win-amd64-3.7\\Release\\crfsuite\\lib\n",
      "  creating build\\temp.win-amd64-3.7\\Release\\crfsuite\\lib\\crf\n",
      "  creating build\\temp.win-amd64-3.7\\Release\\crfsuite\\lib\\crf\\src\n",
      "  creating build\\temp.win-amd64-3.7\\Release\\crfsuite\\swig\n",
      "  creating build\\temp.win-amd64-3.7\\Release\\crfsuite\\lib\\cqdb\n",
      "  creating build\\temp.win-amd64-3.7\\Release\\crfsuite\\lib\\cqdb\\src\n",
      "  creating build\\temp.win-amd64-3.7\\Release\\liblbfgs\n",
      "  creating build\\temp.win-amd64-3.7\\Release\\liblbfgs\\lib\n",
      "  C:\\Program Files (x86)\\Microsoft Visual Studio\\2017\\BuildTools\\VC\\Tools\\MSVC\\14.16.27023\\bin\\HostX86\\x64\\cl.exe /c /nologo /Ox /W3 /GL /DNDEBUG /MD -Icrfsuite/include/ -Icrfsuite/lib/cqdb/include -Iliblbfgs/include -Ipycrfsuite -Ic:\\programdata\\anaconda3\\include -Ic:\\programdata\\anaconda3\\include \"-IC:\\Program Files (x86)\\Microsoft Visual Studio\\2017\\BuildTools\\VC\\Tools\\MSVC\\14.16.27023\\include\" \"-IC:\\Program Files (x86)\\Windows Kits\\10\\include\\10.0.17763.0\\ucrt\" \"-IC:\\Program Files (x86)\\Windows Kits\\10\\include\\10.0.17763.0\\shared\" \"-IC:\\Program Files (x86)\\Windows Kits\\10\\include\\10.0.17763.0\\um\" \"-IC:\\Program Files (x86)\\Windows Kits\\10\\include\\10.0.17763.0\\winrt\" \"-IC:\\Program Files (x86)\\Windows Kits\\10\\include\\10.0.17763.0\\cppwinrt\" /EHsc /Tppycrfsuite/_pycrfsuite.cpp /Fobuild\\temp.win-amd64-3.7\\Release\\pycrfsuite/_pycrfsuite.obj\n",
      "  _pycrfsuite.cpp\n",
      "  pycrfsuite/_pycrfsuite.cpp(14140): error C2039: 'exc_type': is not a member of '_ts'\n",
      "  c:\\programdata\\anaconda3\\include\\pystate.h(209): note: see declaration of '_ts'\n",
      "  pycrfsuite/_pycrfsuite.cpp(14141): error C2039: 'exc_value': is not a member of '_ts'\n",
      "  c:\\programdata\\anaconda3\\include\\pystate.h(209): note: see declaration of '_ts'\n",
      "  pycrfsuite/_pycrfsuite.cpp(14142): error C2039: 'exc_traceback': is not a member of '_ts'\n",
      "  c:\\programdata\\anaconda3\\include\\pystate.h(209): note: see declaration of '_ts'\n",
      "  pycrfsuite/_pycrfsuite.cpp(14149): error C2039: 'exc_type': is not a member of '_ts'\n",
      "  c:\\programdata\\anaconda3\\include\\pystate.h(209): note: see declaration of '_ts'\n",
      "  pycrfsuite/_pycrfsuite.cpp(14150): error C2039: 'exc_value': is not a member of '_ts'\n",
      "  c:\\programdata\\anaconda3\\include\\pystate.h(209): note: see declaration of '_ts'\n",
      "  pycrfsuite/_pycrfsuite.cpp(14151): error C2039: 'exc_traceback': is not a member of '_ts'\n",
      "  c:\\programdata\\anaconda3\\include\\pystate.h(209): note: see declaration of '_ts'\n",
      "  pycrfsuite/_pycrfsuite.cpp(14152): error C2039: 'exc_type': is not a member of '_ts'\n",
      "  c:\\programdata\\anaconda3\\include\\pystate.h(209): note: see declaration of '_ts'\n",
      "  pycrfsuite/_pycrfsuite.cpp(14153): error C2039: 'exc_value': is not a member of '_ts'\n",
      "  c:\\programdata\\anaconda3\\include\\pystate.h(209): note: see declaration of '_ts'\n",
      "  pycrfsuite/_pycrfsuite.cpp(14154): error C2039: 'exc_traceback': is not a member of '_ts'\n",
      "  c:\\programdata\\anaconda3\\include\\pystate.h(209): note: see declaration of '_ts'\n",
      "  pycrfsuite/_pycrfsuite.cpp(14209): error C2039: 'exc_type': is not a member of '_ts'\n",
      "  c:\\programdata\\anaconda3\\include\\pystate.h(209): note: see declaration of '_ts'\n",
      "  pycrfsuite/_pycrfsuite.cpp(14210): error C2039: 'exc_value': is not a member of '_ts'\n",
      "  c:\\programdata\\anaconda3\\include\\pystate.h(209): note: see declaration of '_ts'\n",
      "  pycrfsuite/_pycrfsuite.cpp(14211): error C2039: 'exc_traceback': is not a member of '_ts'\n",
      "  c:\\programdata\\anaconda3\\include\\pystate.h(209): note: see declaration of '_ts'\n",
      "  pycrfsuite/_pycrfsuite.cpp(14212): error C2039: 'exc_type': is not a member of '_ts'\n",
      "  c:\\programdata\\anaconda3\\include\\pystate.h(209): note: see declaration of '_ts'\n",
      "  pycrfsuite/_pycrfsuite.cpp(14213): error C2039: 'exc_value': is not a member of '_ts'\n",
      "  c:\\programdata\\anaconda3\\include\\pystate.h(209): note: see declaration of '_ts'\n",
      "  pycrfsuite/_pycrfsuite.cpp(14214): error C2039: 'exc_traceback': is not a member of '_ts'\n",
      "  c:\\programdata\\anaconda3\\include\\pystate.h(209): note: see declaration of '_ts'\n",
      "  pycrfsuite/_pycrfsuite.cpp(14236): error C2039: 'exc_type': is not a member of '_ts'\n",
      "  c:\\programdata\\anaconda3\\include\\pystate.h(209): note: see declaration of '_ts'\n",
      "  pycrfsuite/_pycrfsuite.cpp(14237): error C2039: 'exc_value': is not a member of '_ts'\n",
      "  c:\\programdata\\anaconda3\\include\\pystate.h(209): note: see declaration of '_ts'\n",
      "  pycrfsuite/_pycrfsuite.cpp(14238): error C2039: 'exc_traceback': is not a member of '_ts'\n",
      "  c:\\programdata\\anaconda3\\include\\pystate.h(209): note: see declaration of '_ts'\n",
      "  pycrfsuite/_pycrfsuite.cpp(14239): error C2039: 'exc_type': is not a member of '_ts'\n",
      "  c:\\programdata\\anaconda3\\include\\pystate.h(209): note: see declaration of '_ts'\n",
      "  pycrfsuite/_pycrfsuite.cpp(14240): error C2039: 'exc_value': is not a member of '_ts'\n",
      "  c:\\programdata\\anaconda3\\include\\pystate.h(209): note: see declaration of '_ts'\n",
      "  pycrfsuite/_pycrfsuite.cpp(14241): error C2039: 'exc_traceback': is not a member of '_ts'\n",
      "  c:\\programdata\\anaconda3\\include\\pystate.h(209): note: see declaration of '_ts'\n",
      "  error: command 'C:\\\\Program Files (x86)\\\\Microsoft Visual Studio\\\\2017\\\\BuildTools\\\\VC\\\\Tools\\\\MSVC\\\\14.16.27023\\\\bin\\\\HostX86\\\\x64\\\\cl.exe' failed with exit status 2\n",
      "  \n",
      "  ----------------------------------------\n",
      "  Running setup.py clean for python-crfsuite\n",
      "Failed to build python-crfsuite\n",
      "Installing collected packages: python-crfsuite, underthesea\n",
      "  Running setup.py install for python-crfsuite: started\n",
      "    Running setup.py install for python-crfsuite: finished with status 'error'\n",
      "    Complete output from command c:\\programdata\\anaconda3\\python.exe -u -c \"import setuptools, tokenize;__file__='C:\\\\Users\\\\lqs\\\\AppData\\\\Local\\\\Temp\\\\pip-install-m4wahgs4\\\\python-crfsuite\\\\setup.py';f=getattr(tokenize, 'open', open)(__file__);code=f.read().replace('\\r\\n', '\\n');f.close();exec(compile(code, __file__, 'exec'))\" install --record C:\\Users\\lqs\\AppData\\Local\\Temp\\pip-record-7q5592xx\\install-record.txt --single-version-externally-managed --compile:\n",
      "    running install\n",
      "    running build\n",
      "    running build_py\n",
      "    creating build\n",
      "    creating build\\lib.win-amd64-3.7\n",
      "    creating build\\lib.win-amd64-3.7\\pycrfsuite\n",
      "    copying pycrfsuite\\_dumpparser.py -> build\\lib.win-amd64-3.7\\pycrfsuite\n",
      "    copying pycrfsuite\\_logparser.py -> build\\lib.win-amd64-3.7\\pycrfsuite\n",
      "    copying pycrfsuite\\__init__.py -> build\\lib.win-amd64-3.7\\pycrfsuite\n",
      "    running build_ext\n",
      "    building 'pycrfsuite._pycrfsuite' extension\n",
      "    creating build\\temp.win-amd64-3.7\n",
      "    creating build\\temp.win-amd64-3.7\\Release\n",
      "    creating build\\temp.win-amd64-3.7\\Release\\pycrfsuite\n",
      "    creating build\\temp.win-amd64-3.7\\Release\\crfsuite\n",
      "    creating build\\temp.win-amd64-3.7\\Release\\crfsuite\\lib\n",
      "    creating build\\temp.win-amd64-3.7\\Release\\crfsuite\\lib\\crf\n",
      "    creating build\\temp.win-amd64-3.7\\Release\\crfsuite\\lib\\crf\\src\n",
      "    creating build\\temp.win-amd64-3.7\\Release\\crfsuite\\swig\n",
      "    creating build\\temp.win-amd64-3.7\\Release\\crfsuite\\lib\\cqdb\n",
      "    creating build\\temp.win-amd64-3.7\\Release\\crfsuite\\lib\\cqdb\\src\n",
      "    creating build\\temp.win-amd64-3.7\\Release\\liblbfgs\n",
      "    creating build\\temp.win-amd64-3.7\\Release\\liblbfgs\\lib\n",
      "    C:\\Program Files (x86)\\Microsoft Visual Studio\\2017\\BuildTools\\VC\\Tools\\MSVC\\14.16.27023\\bin\\HostX86\\x64\\cl.exe /c /nologo /Ox /W3 /GL /DNDEBUG /MD -Icrfsuite/include/ -Icrfsuite/lib/cqdb/include -Iliblbfgs/include -Ipycrfsuite -Ic:\\programdata\\anaconda3\\include -Ic:\\programdata\\anaconda3\\include \"-IC:\\Program Files (x86)\\Microsoft Visual Studio\\2017\\BuildTools\\VC\\Tools\\MSVC\\14.16.27023\\include\" \"-IC:\\Program Files (x86)\\Windows Kits\\10\\include\\10.0.17763.0\\ucrt\" \"-IC:\\Program Files (x86)\\Windows Kits\\10\\include\\10.0.17763.0\\shared\" \"-IC:\\Program Files (x86)\\Windows Kits\\10\\include\\10.0.17763.0\\um\" \"-IC:\\Program Files (x86)\\Windows Kits\\10\\include\\10.0.17763.0\\winrt\" \"-IC:\\Program Files (x86)\\Windows Kits\\10\\include\\10.0.17763.0\\cppwinrt\" /EHsc /Tppycrfsuite/_pycrfsuite.cpp /Fobuild\\temp.win-amd64-3.7\\Release\\pycrfsuite/_pycrfsuite.obj\n",
      "    _pycrfsuite.cpp\n",
      "    pycrfsuite/_pycrfsuite.cpp(14140): error C2039: 'exc_type': is not a member of '_ts'\n",
      "    c:\\programdata\\anaconda3\\include\\pystate.h(209): note: see declaration of '_ts'\n",
      "    pycrfsuite/_pycrfsuite.cpp(14141): error C2039: 'exc_value': is not a member of '_ts'\n",
      "    c:\\programdata\\anaconda3\\include\\pystate.h(209): note: see declaration of '_ts'\n",
      "    pycrfsuite/_pycrfsuite.cpp(14142): error C2039: 'exc_traceback': is not a member of '_ts'\n",
      "    c:\\programdata\\anaconda3\\include\\pystate.h(209): note: see declaration of '_ts'\n",
      "    pycrfsuite/_pycrfsuite.cpp(14149): error C2039: 'exc_type': is not a member of '_ts'\n",
      "    c:\\programdata\\anaconda3\\include\\pystate.h(209): note: see declaration of '_ts'\n",
      "    pycrfsuite/_pycrfsuite.cpp(14150): error C2039: 'exc_value': is not a member of '_ts'\n",
      "    c:\\programdata\\anaconda3\\include\\pystate.h(209): note: see declaration of '_ts'\n",
      "    pycrfsuite/_pycrfsuite.cpp(14151): error C2039: 'exc_traceback': is not a member of '_ts'\n",
      "    c:\\programdata\\anaconda3\\include\\pystate.h(209): note: see declaration of '_ts'\n",
      "    pycrfsuite/_pycrfsuite.cpp(14152): error C2039: 'exc_type': is not a member of '_ts'\n",
      "    c:\\programdata\\anaconda3\\include\\pystate.h(209): note: see declaration of '_ts'\n",
      "    pycrfsuite/_pycrfsuite.cpp(14153): error C2039: 'exc_value': is not a member of '_ts'\n",
      "    c:\\programdata\\anaconda3\\include\\pystate.h(209): note: see declaration of '_ts'\n",
      "    pycrfsuite/_pycrfsuite.cpp(14154): error C2039: 'exc_traceback': is not a member of '_ts'\n",
      "    c:\\programdata\\anaconda3\\include\\pystate.h(209): note: see declaration of '_ts'\n",
      "    pycrfsuite/_pycrfsuite.cpp(14209): error C2039: 'exc_type': is not a member of '_ts'\n",
      "    c:\\programdata\\anaconda3\\include\\pystate.h(209): note: see declaration of '_ts'\n",
      "    pycrfsuite/_pycrfsuite.cpp(14210): error C2039: 'exc_value': is not a member of '_ts'\n",
      "    c:\\programdata\\anaconda3\\include\\pystate.h(209): note: see declaration of '_ts'\n",
      "    pycrfsuite/_pycrfsuite.cpp(14211): error C2039: 'exc_traceback': is not a member of '_ts'\n",
      "    c:\\programdata\\anaconda3\\include\\pystate.h(209): note: see declaration of '_ts'\n",
      "    pycrfsuite/_pycrfsuite.cpp(14212): error C2039: 'exc_type': is not a member of '_ts'\n",
      "    c:\\programdata\\anaconda3\\include\\pystate.h(209): note: see declaration of '_ts'\n",
      "    pycrfsuite/_pycrfsuite.cpp(14213): error C2039: 'exc_value': is not a member of '_ts'\n",
      "    c:\\programdata\\anaconda3\\include\\pystate.h(209): note: see declaration of '_ts'\n",
      "    pycrfsuite/_pycrfsuite.cpp(14214): error C2039: 'exc_traceback': is not a member of '_ts'\n",
      "    c:\\programdata\\anaconda3\\include\\pystate.h(209): note: see declaration of '_ts'\n",
      "    pycrfsuite/_pycrfsuite.cpp(14236): error C2039: 'exc_type': is not a member of '_ts'\n",
      "    c:\\programdata\\anaconda3\\include\\pystate.h(209): note: see declaration of '_ts'\n",
      "    pycrfsuite/_pycrfsuite.cpp(14237): error C2039: 'exc_value': is not a member of '_ts'\n",
      "    c:\\programdata\\anaconda3\\include\\pystate.h(209): note: see declaration of '_ts'\n",
      "    pycrfsuite/_pycrfsuite.cpp(14238): error C2039: 'exc_traceback': is not a member of '_ts'\n",
      "    c:\\programdata\\anaconda3\\include\\pystate.h(209): note: see declaration of '_ts'\n",
      "    pycrfsuite/_pycrfsuite.cpp(14239): error C2039: 'exc_type': is not a member of '_ts'\n",
      "    c:\\programdata\\anaconda3\\include\\pystate.h(209): note: see declaration of '_ts'\n",
      "    pycrfsuite/_pycrfsuite.cpp(14240): error C2039: 'exc_value': is not a member of '_ts'\n",
      "    c:\\programdata\\anaconda3\\include\\pystate.h(209): note: see declaration of '_ts'\n",
      "    pycrfsuite/_pycrfsuite.cpp(14241): error C2039: 'exc_traceback': is not a member of '_ts'\n",
      "    c:\\programdata\\anaconda3\\include\\pystate.h(209): note: see declaration of '_ts'\n",
      "    error: command 'C:\\\\Program Files (x86)\\\\Microsoft Visual Studio\\\\2017\\\\BuildTools\\\\VC\\\\Tools\\\\MSVC\\\\14.16.27023\\\\bin\\\\HostX86\\\\x64\\\\cl.exe' failed with exit status 2\n",
      "    \n",
      "    ----------------------------------------\n"
     ]
    },
    {
     "name": "stderr",
     "output_type": "stream",
     "text": [
      "  Failed building wheel for python-crfsuite\n",
      "Command \"c:\\programdata\\anaconda3\\python.exe -u -c \"import setuptools, tokenize;__file__='C:\\\\Users\\\\lqs\\\\AppData\\\\Local\\\\Temp\\\\pip-install-m4wahgs4\\\\python-crfsuite\\\\setup.py';f=getattr(tokenize, 'open', open)(__file__);code=f.read().replace('\\r\\n', '\\n');f.close();exec(compile(code, __file__, 'exec'))\" install --record C:\\Users\\lqs\\AppData\\Local\\Temp\\pip-record-7q5592xx\\install-record.txt --single-version-externally-managed --compile\" failed with error code 1 in C:\\Users\\lqs\\AppData\\Local\\Temp\\pip-install-m4wahgs4\\python-crfsuite\\\n"
     ]
    }
   ],
   "source": [
    "!pip install underthesea"
   ]
  },
  {
   "cell_type": "code",
   "execution_count": 16,
   "metadata": {},
   "outputs": [
    {
     "ename": "ModuleNotFoundError",
     "evalue": "No module named 'underthesea'",
     "output_type": "error",
     "traceback": [
      "\u001b[1;31m---------------------------------------------------------------------------\u001b[0m",
      "\u001b[1;31mModuleNotFoundError\u001b[0m                       Traceback (most recent call last)",
      "\u001b[1;32m<ipython-input-16-3732eaed8e50>\u001b[0m in \u001b[0;36m<module>\u001b[1;34m()\u001b[0m\n\u001b[1;32m----> 1\u001b[1;33m \u001b[1;32mfrom\u001b[0m \u001b[0munderthesea\u001b[0m \u001b[1;32mimport\u001b[0m \u001b[0mword_tokenize\u001b[0m\u001b[1;33m\u001b[0m\u001b[0m\n\u001b[0m",
      "\u001b[1;31mModuleNotFoundError\u001b[0m: No module named 'underthesea'"
     ]
    }
   ],
   "source": [
    "from underthesea import word_tokenize"
   ]
  },
  {
   "cell_type": "code",
   "execution_count": 11,
   "metadata": {},
   "outputs": [
    {
     "name": "stdout",
     "output_type": "stream",
     "text": [
      "Collecting underthesea\n",
      "  Using cached https://files.pythonhosted.org/packages/70/f3/87062b83b4c35d40fd84a042d98c2c7afeff37f3fc00a71a44756b347b6a/underthesea-1.1.8-py3-none-any.whl\n",
      "Collecting python-crfsuite==0.9.5 (from underthesea)\n",
      "  Using cached https://files.pythonhosted.org/packages/e7/e8/02618c1e926df4aee70308676511b728b1db4ca9eb52d8c4660c14a44178/python-crfsuite-0.9.5.tar.gz\n",
      "Requirement already satisfied: Click>=6.0 in c:\\programdata\\anaconda3\\lib\\site-packages (from underthesea) (6.7)\n",
      "Requirement already satisfied: languageflow==1.1.7a3 in c:\\programdata\\anaconda3\\lib\\site-packages (from underthesea) (1.1.7a3)\n",
      "Building wheels for collected packages: python-crfsuite\n",
      "  Running setup.py bdist_wheel for python-crfsuite: started\n",
      "  Running setup.py bdist_wheel for python-crfsuite: finished with status 'error'\n",
      "  Complete output from command c:\\programdata\\anaconda3\\python.exe -u -c \"import setuptools, tokenize;__file__='C:\\\\Users\\\\lqs\\\\AppData\\\\Local\\\\Temp\\\\pip-install-g1d3faq4\\\\python-crfsuite\\\\setup.py';f=getattr(tokenize, 'open', open)(__file__);code=f.read().replace('\\r\\n', '\\n');f.close();exec(compile(code, __file__, 'exec'))\" bdist_wheel -d C:\\Users\\lqs\\AppData\\Local\\Temp\\pip-wheel-fzzcoej6 --python-tag cp37:\n",
      "  running bdist_wheel\n",
      "  running build\n",
      "  running build_py\n",
      "  creating build\n",
      "  creating build\\lib.win-amd64-3.7\n",
      "  creating build\\lib.win-amd64-3.7\\pycrfsuite\n",
      "  copying pycrfsuite\\_dumpparser.py -> build\\lib.win-amd64-3.7\\pycrfsuite\n",
      "  copying pycrfsuite\\_logparser.py -> build\\lib.win-amd64-3.7\\pycrfsuite\n",
      "  copying pycrfsuite\\__init__.py -> build\\lib.win-amd64-3.7\\pycrfsuite\n",
      "  running build_ext\n",
      "  building 'pycrfsuite._pycrfsuite' extension\n",
      "  creating build\\temp.win-amd64-3.7\n",
      "  creating build\\temp.win-amd64-3.7\\Release\n",
      "  creating build\\temp.win-amd64-3.7\\Release\\pycrfsuite\n",
      "  creating build\\temp.win-amd64-3.7\\Release\\crfsuite\n",
      "  creating build\\temp.win-amd64-3.7\\Release\\crfsuite\\lib\n",
      "  creating build\\temp.win-amd64-3.7\\Release\\crfsuite\\lib\\crf\n",
      "  creating build\\temp.win-amd64-3.7\\Release\\crfsuite\\lib\\crf\\src\n",
      "  creating build\\temp.win-amd64-3.7\\Release\\crfsuite\\swig\n",
      "  creating build\\temp.win-amd64-3.7\\Release\\crfsuite\\lib\\cqdb\n",
      "  creating build\\temp.win-amd64-3.7\\Release\\crfsuite\\lib\\cqdb\\src\n",
      "  creating build\\temp.win-amd64-3.7\\Release\\liblbfgs\n",
      "  creating build\\temp.win-amd64-3.7\\Release\\liblbfgs\\lib\n",
      "  C:\\Program Files (x86)\\Microsoft Visual Studio\\2017\\BuildTools\\VC\\Tools\\MSVC\\14.16.27023\\bin\\HostX86\\x64\\cl.exe /c /nologo /Ox /W3 /GL /DNDEBUG /MD -Icrfsuite/include/ -Icrfsuite/lib/cqdb/include -Iliblbfgs/include -Ipycrfsuite -Ic:\\programdata\\anaconda3\\include -Ic:\\programdata\\anaconda3\\include \"-IC:\\Program Files (x86)\\Microsoft Visual Studio\\2017\\BuildTools\\VC\\Tools\\MSVC\\14.16.27023\\ATLMFC\\include\" \"-IC:\\Program Files (x86)\\Microsoft Visual Studio\\2017\\BuildTools\\VC\\Tools\\MSVC\\14.16.27023\\include\" /EHsc /Tppycrfsuite/_pycrfsuite.cpp /Fobuild\\temp.win-amd64-3.7\\Release\\pycrfsuite/_pycrfsuite.obj\n",
      "  _pycrfsuite.cpp\n",
      "  c:\\programdata\\anaconda3\\include\\pyconfig.h(59): fatal error C1083: Cannot open include file: 'io.h': No such file or directory\n",
      "  error: command 'C:\\\\Program Files (x86)\\\\Microsoft Visual Studio\\\\2017\\\\BuildTools\\\\VC\\\\Tools\\\\MSVC\\\\14.16.27023\\\\bin\\\\HostX86\\\\x64\\\\cl.exe' failed with exit status 2\n",
      "  \n",
      "  ----------------------------------------\n",
      "  Running setup.py clean for python-crfsuite\n",
      "Failed to build python-crfsuite\n",
      "Installing collected packages: python-crfsuite, underthesea\n",
      "  Running setup.py install for python-crfsuite: started\n",
      "    Running setup.py install for python-crfsuite: finished with status 'error'\n",
      "    Complete output from command c:\\programdata\\anaconda3\\python.exe -u -c \"import setuptools, tokenize;__file__='C:\\\\Users\\\\lqs\\\\AppData\\\\Local\\\\Temp\\\\pip-install-g1d3faq4\\\\python-crfsuite\\\\setup.py';f=getattr(tokenize, 'open', open)(__file__);code=f.read().replace('\\r\\n', '\\n');f.close();exec(compile(code, __file__, 'exec'))\" install --record C:\\Users\\lqs\\AppData\\Local\\Temp\\pip-record-xea4y3mk\\install-record.txt --single-version-externally-managed --compile:\n",
      "    running install\n",
      "    running build\n",
      "    running build_py\n",
      "    creating build\n",
      "    creating build\\lib.win-amd64-3.7\n",
      "    creating build\\lib.win-amd64-3.7\\pycrfsuite\n",
      "    copying pycrfsuite\\_dumpparser.py -> build\\lib.win-amd64-3.7\\pycrfsuite\n",
      "    copying pycrfsuite\\_logparser.py -> build\\lib.win-amd64-3.7\\pycrfsuite\n",
      "    copying pycrfsuite\\__init__.py -> build\\lib.win-amd64-3.7\\pycrfsuite\n",
      "    running build_ext\n",
      "    building 'pycrfsuite._pycrfsuite' extension\n",
      "    creating build\\temp.win-amd64-3.7\n",
      "    creating build\\temp.win-amd64-3.7\\Release\n",
      "    creating build\\temp.win-amd64-3.7\\Release\\pycrfsuite\n",
      "    creating build\\temp.win-amd64-3.7\\Release\\crfsuite\n",
      "    creating build\\temp.win-amd64-3.7\\Release\\crfsuite\\lib\n",
      "    creating build\\temp.win-amd64-3.7\\Release\\crfsuite\\lib\\crf\n",
      "    creating build\\temp.win-amd64-3.7\\Release\\crfsuite\\lib\\crf\\src\n",
      "    creating build\\temp.win-amd64-3.7\\Release\\crfsuite\\swig\n",
      "    creating build\\temp.win-amd64-3.7\\Release\\crfsuite\\lib\\cqdb\n",
      "    creating build\\temp.win-amd64-3.7\\Release\\crfsuite\\lib\\cqdb\\src\n",
      "    creating build\\temp.win-amd64-3.7\\Release\\liblbfgs\n",
      "    creating build\\temp.win-amd64-3.7\\Release\\liblbfgs\\lib\n",
      "    C:\\Program Files (x86)\\Microsoft Visual Studio\\2017\\BuildTools\\VC\\Tools\\MSVC\\14.16.27023\\bin\\HostX86\\x64\\cl.exe /c /nologo /Ox /W3 /GL /DNDEBUG /MD -Icrfsuite/include/ -Icrfsuite/lib/cqdb/include -Iliblbfgs/include -Ipycrfsuite -Ic:\\programdata\\anaconda3\\include -Ic:\\programdata\\anaconda3\\include \"-IC:\\Program Files (x86)\\Microsoft Visual Studio\\2017\\BuildTools\\VC\\Tools\\MSVC\\14.16.27023\\ATLMFC\\include\" \"-IC:\\Program Files (x86)\\Microsoft Visual Studio\\2017\\BuildTools\\VC\\Tools\\MSVC\\14.16.27023\\include\" /EHsc /Tppycrfsuite/_pycrfsuite.cpp /Fobuild\\temp.win-amd64-3.7\\Release\\pycrfsuite/_pycrfsuite.obj\n",
      "    _pycrfsuite.cpp\n",
      "    c:\\programdata\\anaconda3\\include\\pyconfig.h(59): fatal error C1083: Cannot open include file: 'io.h': No such file or directory\n",
      "    error: command 'C:\\\\Program Files (x86)\\\\Microsoft Visual Studio\\\\2017\\\\BuildTools\\\\VC\\\\Tools\\\\MSVC\\\\14.16.27023\\\\bin\\\\HostX86\\\\x64\\\\cl.exe' failed with exit status 2\n",
      "    \n",
      "    ----------------------------------------\n"
     ]
    },
    {
     "name": "stderr",
     "output_type": "stream",
     "text": [
      "  Failed building wheel for python-crfsuite\n",
      "Command \"c:\\programdata\\anaconda3\\python.exe -u -c \"import setuptools, tokenize;__file__='C:\\\\Users\\\\lqs\\\\AppData\\\\Local\\\\Temp\\\\pip-install-g1d3faq4\\\\python-crfsuite\\\\setup.py';f=getattr(tokenize, 'open', open)(__file__);code=f.read().replace('\\r\\n', '\\n');f.close();exec(compile(code, __file__, 'exec'))\" install --record C:\\Users\\lqs\\AppData\\Local\\Temp\\pip-record-xea4y3mk\\install-record.txt --single-version-externally-managed --compile\" failed with error code 1 in C:\\Users\\lqs\\AppData\\Local\\Temp\\pip-install-g1d3faq4\\python-crfsuite\\\n"
     ]
    }
   ],
   "source": [
    "!pip install underthesea"
   ]
  },
  {
   "cell_type": "code",
   "execution_count": 7,
   "metadata": {},
   "outputs": [
    {
     "name": "stdout",
     "output_type": "stream",
     "text": [
      "Requirement already up-to-date: setuptools in c:\\programdata\\anaconda3\\lib\\site-packages (40.6.3)\n"
     ]
    }
   ],
   "source": [
    "!pip install -U setuptools"
   ]
  },
  {
   "cell_type": "code",
   "execution_count": null,
   "metadata": {},
   "outputs": [],
   "source": []
  }
 ],
 "metadata": {
  "kernelspec": {
   "display_name": "Python 3",
   "language": "python",
   "name": "python3"
  },
  "language_info": {
   "codemirror_mode": {
    "name": "ipython",
    "version": 3
   },
   "file_extension": ".py",
   "mimetype": "text/x-python",
   "name": "python",
   "nbconvert_exporter": "python",
   "pygments_lexer": "ipython3",
   "version": "3.7.0"
  }
 },
 "nbformat": 4,
 "nbformat_minor": 2
}
